{
 "cells": [
  {
   "cell_type": "code",
   "execution_count": 15,
   "metadata": {},
   "outputs": [],
   "source": [
    "import glob\n",
    "import pandas as pd"
   ]
  },
  {
   "cell_type": "code",
   "execution_count": 33,
   "metadata": {},
   "outputs": [
    {
     "name": "stdout",
     "output_type": "stream",
     "text": [
      "2303: -0.167785%\n",
      "2308: 0.173460%\n",
      "2317: 0.021817%\n",
      "2412: -0.122428%\n",
      "2454: 0.136113%\n"
     ]
    }
   ],
   "source": [
    "symbols = [\"2303\",\"2308\",\"2317\",\"2412\",\"2454\"]\n",
    "for symbol in symbols:\n",
    "    files = glob.glob(f\"./simulate/{symbol}/*\")\n",
    "    original_capital = 10000\n",
    "    total_ROI = 0 \n",
    "    for file in files:\n",
    "        data = pd.read_csv(file) \n",
    "        #print((original_capital/data.iloc[-1][\"openPri\"]  * data.iloc[-1][\"matchPri\"] - original_capital)/original_capital)\n",
    "        total_ROI += (original_capital/data.iloc[-1][\"openPri\"]  * data.iloc[-1][\"matchPri\"] - original_capital)/original_capital\n",
    "\n",
    "    print(f\"{symbol}: {total_ROI/len(files):%}\")"
   ]
  },
  {
   "cell_type": "code",
   "execution_count": null,
   "metadata": {},
   "outputs": [],
   "source": []
  }
 ],
 "metadata": {
  "kernelspec": {
   "display_name": "gpu_env",
   "language": "python",
   "name": "python3"
  },
  "language_info": {
   "codemirror_mode": {
    "name": "ipython",
    "version": 3
   },
   "file_extension": ".py",
   "mimetype": "text/x-python",
   "name": "python",
   "nbconvert_exporter": "python",
   "pygments_lexer": "ipython3",
   "version": "3.9.15"
  },
  "orig_nbformat": 4
 },
 "nbformat": 4,
 "nbformat_minor": 2
}
