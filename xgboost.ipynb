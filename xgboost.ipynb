{
 "cells": [
  {
   "cell_type": "code",
   "execution_count": 214,
   "metadata": {},
   "outputs": [],
   "source": [
    "import pandas as pd\n",
    "import xgboost as xgb\n",
    "from sklearn.metrics import accuracy_score ,roc_curve, auc,roc_auc_score\n",
    "import glob\n",
    "from sklearn.ensemble import RandomForestClassifier\n",
    "from sklearn.metrics import accuracy_score, confusion_matrix, precision_score, recall_score, f1_score ,roc_auc_score \n",
    "import optuna\n",
    "import numpy as np \n",
    "import os\n",
    "from sklearn import metrics\n",
    "import matplotlib.pyplot as plt"
   ]
  },
  {
   "cell_type": "code",
   "execution_count": 113,
   "metadata": {},
   "outputs": [],
   "source": [
    "# 估計值\n",
    "def Score(m, x_train, y_train, x_test, y_test, train=True):\n",
    "    # training 的\n",
    "    if train:\n",
    "        pred=m.predict(x_train)\n",
    "        print('Train Result:\\n')\n",
    "        print(f\"Accuracy Score: {accuracy_score(y_train, pred)*100:.2f}%\")\n",
    "        print(f\"Precision Score: {precision_score(y_train, pred)*100:.2f}%\")\n",
    "        print(f\"Recall Score: {recall_score(y_train, pred)*100:.2f}%\")\n",
    "        print(f\"F1 score: {f1_score(y_train, pred)*100:.2f}%\")\n",
    "        print(f\"Confusion Matrix:\\n {confusion_matrix(y_train, pred)}\")\n",
    "    # testing 的\n",
    "    elif train == False:\n",
    "        pred=m.predict(x_test)\n",
    "        print('Test Result:\\n')\n",
    "        print(f\"Accuracy Score: {accuracy_score(y_test, pred)*100:.2f}%\")\n",
    "        print(f\"Precision Score: {precision_score(y_test, pred)*100:.2f}%\")\n",
    "        print(f\"Recall Score: {recall_score(y_test, pred)*100:.2f}%\")\n",
    "        print(f\"F1 score: {f1_score(y_test, pred)*100:.2f}%\")\n",
    "        print(f\"Confusion Matrix:\\n {confusion_matrix(y_test, pred)}\")\n",
    "        "
   ]
  },
  {
   "cell_type": "code",
   "execution_count": 147,
   "metadata": {},
   "outputs": [
    {
     "name": "stdout",
     "output_type": "stream",
     "text": [
      "(651343, 12)\n"
     ]
    }
   ],
   "source": [
    "# 讀data\n",
    "file_path = r\"C:\\Users\\yicheng\\Desktop\\policy_model\\stock_dataset_all\\ask\\*\"\n",
    "\n",
    "files = glob.glob(file_path)\n",
    "data=[]\n",
    "data = pd.DataFrame(data)\n",
    "\n",
    "for f in files:\n",
    "    d = pd.read_csv(f, index_col=None)\n",
    "    d = d.drop(columns=[\"matchDate\",\"symbol\",\"matchPri\",\"matchQty\",\"tolMatchQty\",'openPri','bidPri1','bidPri2','bidPri3','bidPri4','bidPri5','askPri1','askPri2','askPri3','askPri4','askPri5',\"openPri\",\"highPri\",\"lowPri\",\"refPri\",\"upPri\",\"dnPri\"])\n",
    "    data = pd.concat([data,d]) \n",
    "    \n",
    "\n",
    "print(data.shape)"
   ]
  },
  {
   "cell_type": "code",
   "execution_count": 148,
   "metadata": {},
   "outputs": [],
   "source": [
    "#       9月 , 10月  , 11月 , 12月 , 2,3月\n",
    "tv = [121901,252602,481357,527096,651343]"
   ]
  },
  {
   "cell_type": "code",
   "execution_count": 149,
   "metadata": {},
   "outputs": [],
   "source": [
    "# 分割資料\n",
    "length = len(data)\n",
    "# 嘗試將不同的tv切割,看準確率\n",
    "train_length =tv[2]\n",
    "\n",
    "train_data = data[:train_length]\n",
    "X_train = train_data.drop(columns=['label'])\n",
    "y_train = train_data['label'].to_numpy()\n",
    "\n",
    "val_data = data[tv[2]:tv[3]] \n",
    "X_val = val_data.drop(columns=['label'])\n",
    "y_val = val_data['label'].to_numpy()\n",
    "\n",
    "test_data = data[train_length:]\n",
    "X_test = test_data.drop(columns=['label'])\n",
    "y_test = test_data['label'].to_numpy()\n",
    "\n",
    "eval_set = [(X_train, y_train), (X_val,y_val)]\n"
   ]
  },
  {
   "cell_type": "code",
   "execution_count": 150,
   "metadata": {},
   "outputs": [
    {
     "name": "stdout",
     "output_type": "stream",
     "text": [
      "Train : 481357 481357\n",
      "Val : 45739 45739\n",
      "Test  : 169986 169986\n"
     ]
    }
   ],
   "source": [
    "print(f\"Train : {len(X_train)} {len(y_train)}\")\n",
    "print(f\"Val : {len(X_val)} {len(y_val)}\")\n",
    "print(f\"Test  : {len(X_test)} {len(y_test)}\")"
   ]
  },
  {
   "cell_type": "code",
   "execution_count": 118,
   "metadata": {},
   "outputs": [],
   "source": [
    "def ConvertToSeqData(X,y,k=2):\n",
    "    \n",
    "    seq_X =list()\n",
    "    seq_y =list()\n",
    "\n",
    "    for i in range(k,len(X)):\n",
    "        seq=list()\n",
    "        \n",
    "        for j in (i-k,i):\n",
    "            seq.extend(X.iloc[j])\n",
    "        seq_X.append(seq)\n",
    "        seq_y.append(y[i])\n",
    "    return seq_X ,seq_y"
   ]
  },
  {
   "cell_type": "code",
   "execution_count": 64,
   "metadata": {},
   "outputs": [],
   "source": [
    "# 帶入k筆資料輸入\n",
    "\n",
    "# k = 2\n",
    "# seq_X_train , seq_y_train = ConvertToSeqData(X_train,y_train,k)\n",
    "# seq_X_val ,seq_y_val = ConvertToSeqData(X_val,y_val,k)\n",
    "# seq_X_test ,seq_y_test = ConvertToSeqData(X_test,y_test,k)\n",
    "# eval_set = [(seq_X_train, seq_y_train), (seq_X_val,seq_y_val)]"
   ]
  },
  {
   "cell_type": "code",
   "execution_count": 94,
   "metadata": {},
   "outputs": [
    {
     "name": "stdout",
     "output_type": "stream",
     "text": [
      "seq Train : 527094 527094\n",
      "seq Test  : 124245 124245\n"
     ]
    }
   ],
   "source": [
    "# print(f\"seq Train : {len(seq_X_train)} {len(seq_y_train)}\")\n",
    "# print(f\"seq Val  : {len(seq_X_val)} {len(seq_y_val)}\")\n",
    "# print(f\"seq Test  : {len(seq_X_test)} {len(seq_y_test)}\")"
   ]
  },
  {
   "cell_type": "code",
   "execution_count": 230,
   "metadata": {},
   "outputs": [
    {
     "name": "stdout",
     "output_type": "stream",
     "text": [
      "80910 400447\n",
      "change: 16.808730%\n",
      "other : 83.191270%\n"
     ]
    }
   ],
   "source": [
    "# 計算training 的 label 比例分配\n",
    "change = 0\n",
    "other = 0\n",
    "for i in y_train:\n",
    "    \n",
    "    if i == 0:\n",
    "        other+=1\n",
    "    else:\n",
    "        change+=1\n",
    "\n",
    "print(change,other)\n",
    "print('change: {:%}'.format(change/(change+other)))\n",
    "print('other : {:%}'.format(other/(change+other)))"
   ]
  },
  {
   "cell_type": "code",
   "execution_count": 228,
   "metadata": {},
   "outputs": [],
   "source": [
    "# 跑權重 \n",
    "def Objective(trial):\n",
    "    # 配置要選的權重和range\n",
    "    # 'scale_pos_weight':other/down,這個一定要加 ，他是處理imbalance的 \n",
    "    param = {\n",
    "        'max_depth': trial.suggest_int('max_depth', 2, 15),\n",
    "        'subsample': trial.suggest_float('subsample', 0.01, 1.0,log=True),\n",
    "        'n_estimators': trial.suggest_int('n_estimators', 50,500),\n",
    "        'learning_rate': trial.suggest_float('learning_rate', 0.01, 1.0,log=True),\n",
    "        'gamma': trial.suggest_float('gamma', 1e-8, 1.0,log=True),\n",
    "        'scale_pos_weight':other/change,\n",
    "        'reg_alpha':  trial.suggest_float('reg_lambda', 1e-8, 1.0,log=True),\n",
    "        'reg_lambda': trial.suggest_float('reg_lambda', 1e-8, 1.0,log=True),\n",
    "        'min_child_weight': trial.suggest_int('min_child_weight', 2, 20),\n",
    "        'eval_metric': 'auc',\n",
    "        \"colsample_bytree\": trial.suggest_float(\"colsample_bytree\", 0.01, 1.0),\n",
    "        \"early_stopping_rounds\":5,\n",
    "        # CPU 執行緒 ,可以調整\n",
    "        'nthread':16\n",
    "    }\n",
    "\n",
    "    \n",
    "    epoch = 20\n",
    "    # 訓練\n",
    "    model = xgb.XGBClassifier(**param,objective='binary:logistic')  \n",
    "    for step in range(epoch):\n",
    "        model.fit(X_train, y_train,verbose=False, eval_set=eval_set)\n",
    "        # 預測\n",
    "        preds = model.predict(X_train)\n",
    "        recall = roc_auc_score(y_train,preds)\n",
    "        trial.report(recall, step=step)\n",
    "\n",
    "    # 存model weight\n",
    "    model.save_model(f'xgb_best_auc{round(recall,2)}.model')\n",
    "        \n",
    "    return recall"
   ]
  },
  {
   "cell_type": "code",
   "execution_count": null,
   "metadata": {},
   "outputs": [],
   "source": [
    "# 找參數的套件 ㄝㄝ, 很佔資源\n",
    "# direction =\"maximize\" ,代表作為評估的值要找最大值\n",
    "study = optuna.create_study(direction='maximize')\n",
    "\n",
    "# pre-train 用\n",
    "# study.enqueue_trial(study.best_trial)\n",
    "\n",
    "# n_trials 要跑幾次\n",
    "study.optimize(Objective, n_trials = 100,show_progress_bar=True)"
   ]
  },
  {
   "cell_type": "code",
   "execution_count": 181,
   "metadata": {},
   "outputs": [
    {
     "name": "stdout",
     "output_type": "stream",
     "text": [
      "Number of finished trials: 10\n",
      "Best trial:\n",
      "  Value: 0.42\n",
      "  Params: \n",
      "    max_depth: 8\n",
      "    subsample: 0.10515856284393223\n",
      "    n_estimators: 175\n",
      "    learning_rate: 0.4138949910850158\n",
      "    gamma: 0.14661609861845717\n",
      "    reg_lambda: 0.18702021255351595\n",
      "    min_child_weight: 14\n",
      "    colsample_bytree: 0.6195964133070999\n"
     ]
    }
   ],
   "source": [
    "# 輸出找到的最佳參數\n",
    "print('Number of finished trials: {}'.format(len(study.trials)))\n",
    "print('Best trial:')\n",
    "trial = study.best_trial\n",
    "\n",
    "print('  Value: {}'.format(trial.value))\n",
    "print('  Params: ')\n",
    "\n",
    "for key, value in trial.params.items():\n",
    "    print('    {}: {}'.format(key, value))"
   ]
  },
  {
   "cell_type": "code",
   "execution_count": 187,
   "metadata": {},
   "outputs": [],
   "source": [
    "\n",
    "from matplotlib import pyplot"
   ]
  },
  {
   "cell_type": "code",
   "execution_count": 223,
   "metadata": {},
   "outputs": [],
   "source": [
    "# 越高越好\n",
    "def CalROC(model):\n",
    "    y_pred_proba = model.predict_proba(X_test)\n",
    "    fpr, tpr, thresholds = metrics.roc_curve(y_test,y_pred_proba[:,1], pos_label=1)\n",
    "    roc_auc = metrics.auc(fpr,tpr)\n",
    "\n",
    "\n",
    "    plt.figure()\n",
    "    lw = 2\n",
    "    plt.plot(\n",
    "        fpr,\n",
    "        tpr,\n",
    "        color=\"darkorange\",\n",
    "        lw=lw,\n",
    "        label=\"ROC curve (area = %0.2f)\" % roc_auc,\n",
    "    )\n",
    "    plt.plot([0, 1], [0, 1], color=\"navy\", lw=lw, linestyle=\"--\")\n",
    "    plt.xlim([0.0, 1.0])\n",
    "    plt.ylim([0.0, 1.05])\n",
    "    plt.xlabel(\"False Positive Rate\")\n",
    "    plt.ylabel(\"True Positive Rate\")\n",
    "    plt.title(\"Receiver operating characteristic\")\n",
    "    plt.legend(loc=\"lower right\")\n",
    "    plt.show()"
   ]
  },
  {
   "cell_type": "code",
   "execution_count": 225,
   "metadata": {},
   "outputs": [],
   "source": [
    "# 越高越好\n",
    "def CalAuc(model):\n",
    "    \n",
    "    results = model.evals_result()\n",
    "    # plot learning curves\n",
    "    pyplot.plot(results['validation_0']['auc'], label='train')\n",
    "    pyplot.plot(results['validation_1']['auc'], label='test')\n",
    "    # show the legend\n",
    "    pyplot.legend()\n",
    "    # show the plot\n",
    "    pyplot.show()"
   ]
  },
  {
   "cell_type": "code",
   "execution_count": 224,
   "metadata": {},
   "outputs": [
    {
     "data": {
      "image/png": "[encoded data removed]",
      "text/plain": [
       "<Figure size 640x480 with 1 Axes>"
      ]
     },
     "metadata": {},
     "output_type": "display_data"
    },
    {
     "data": {
      "image/png": "[encoded data removed]",
      "text/plain": [
       "<Figure size 640x480 with 1 Axes>"
      ]
     },
     "metadata": {},
     "output_type": "display_data"
    }
   ],
   "source": [
    "model = xgb.XGBClassifier()\n",
    "\n",
    "model_path = './xgb_best_0.74.model'\n",
    "model.load_model(model_path)\n",
    "\n",
    "CalAuc(model)\n",
    "CalROC(model)"
   ]
  },
  {
   "cell_type": "code",
   "execution_count": 227,
   "metadata": {},
   "outputs": [
    {
     "name": "stdout",
     "output_type": "stream",
     "text": [
      "Train Result:\n",
      "\n",
      "Accuracy Score: 67.21%\n",
      "Precision Score: 32.24%\n",
      "Recall Score: 86.28%\n",
      "F1 score: 46.94%\n",
      "Confusion Matrix:\n",
      " [[253690 146757]\n",
      " [ 11099  69811]]\n",
      "Test Result:\n",
      "\n",
      "Accuracy Score: 66.16%\n",
      "Precision Score: 30.54%\n",
      "Recall Score: 74.48%\n",
      "F1 score: 43.32%\n",
      "Confusion Matrix:\n",
      " [[90478 49991]\n",
      " [ 7532 21985]]\n",
      "特徵重要程度:  [0.03991487 0.37259424 0.05336625 0.04685855 0.04334014 0.04810861\n",
      " 0.21433972 0.04772542 0.04541459 0.04612957 0.04220805]\n"
     ]
    }
   ],
   "source": [
    "\n",
    "\n",
    "# training eval\n",
    "Score(model,X_train, y_train, X_test,y_test)\n",
    "# testing eval\n",
    "Score(model,X_train, y_train, X_test,y_test,train=False)\n",
    "\n",
    "print('特徵重要程度: ',model.feature_importances_)"
   ]
  },
  {
   "cell_type": "code",
   "execution_count": null,
   "metadata": {},
   "outputs": [],
   "source": [
    "# 這邊就不斷調要train 幾次 ,看recall score \n",
    "# **trial.params : 前面找出來的參數\n",
    "# xgb_model = xgb.XGBClassifier(**trial.params)\n",
    "\n",
    "# num =50 \n",
    "# model_path = \"./xgb_best_0.88.model\"\n",
    "# for i in range(num):\n",
    "#     # xgb_model 讀檔的\n",
    "#     xgb_model.fit(X_train, y_train,verbose=1,xgb_model=model_path)\n",
    "#     # 存檔\n",
    "#     xgb_model.save_model(model_path)\n",
    "\n",
    "\n",
    "# Score(xgb_model,X_train, y_train, X_test,y_test)\n",
    "# Score(xgb_model,X_train, y_train, X_test,y_test,train=False)"
   ]
  }
 ],
 "metadata": {
  "kernelspec": {
   "display_name": "gpu_env",
   "language": "python",
   "name": "python3"
  },
  "language_info": {
   "codemirror_mode": {
    "name": "ipython",
    "version": 3
   },
   "file_extension": ".py",
   "mimetype": "text/x-python",
   "name": "python",
   "nbconvert_exporter": "python",
   "pygments_lexer": "ipython3",
   "version": "3.9.15"
  },
  "orig_nbformat": 4
 },
 "nbformat": 4,
 "nbformat_minor": 2
}
