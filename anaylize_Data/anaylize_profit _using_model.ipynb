{
 "cells": [
  {
   "cell_type": "code",
   "execution_count": 7,
   "metadata": {},
   "outputs": [],
   "source": [
    "import xgboost as xgb \n",
    "import pandas as pd \n",
    "import numpy as np\n",
    "import os\n",
    "from tqdm import tqdm"
   ]
  },
  {
   "cell_type": "code",
   "execution_count": 8,
   "metadata": {},
   "outputs": [],
   "source": [
    "bid_model = xgb.XGBClassifier()\n",
    "bid_model.load_model(\"../model_weight/bid_using.model\")\n",
    "ask_model = xgb.XGBClassifier()\n",
    "ask_model.load_model(\"../model_weight/ask_using.model\")"
   ]
  },
  {
   "cell_type": "code",
   "execution_count": 18,
   "metadata": {},
   "outputs": [
    {
     "name": "stderr",
     "output_type": "stream",
     "text": [
      "[5/5361] 20221230 , capital: 10011.00110011001 , stock: 0:   0%|          | 3/5360 [00:00<03:31, 25.30it/s]"
     ]
    },
    {
     "name": "stdout",
     "output_type": "stream",
     "text": [
      "ask 99.999923% 0.000075% False\n",
      "ask 0.094765% 99.905235% True\n",
      "bid 100.000000% 0.000000% False\n",
      "bid 0.111455% 99.888545% True\n",
      "ask 100.000000% 0.000000% False\n",
      "ask 100.000000% 0.000000% False\n"
     ]
    },
    {
     "name": "stderr",
     "output_type": "stream",
     "text": [
      "[10/5361] 20221230 , capital: 0 , stock: 22.026405060748097:   0%|          | 9/5360 [00:00<03:38, 24.49it/s]"
     ]
    },
    {
     "name": "stdout",
     "output_type": "stream",
     "text": [
      "ask 100.000000% 0.000000% False\n",
      "ask 0.000393% 99.999607% True\n",
      "bid 100.000000% 0.000000% False\n",
      "bid 100.000000% 0.000000% False\n",
      "bid 0.000000% 100.000000% True\n"
     ]
    },
    {
     "name": "stderr",
     "output_type": "stream",
     "text": [
      "[15/5361] 20221230 , capital: 10022.014302640384 , stock: 0:   0%|          | 15/5360 [00:00<03:52, 23.02it/s]"
     ]
    },
    {
     "name": "stdout",
     "output_type": "stream",
     "text": [
      "ask 99.999952% 0.000045% False\n",
      "ask 0.003004% 99.996996% True\n",
      "ask 99.999994% 0.000005% False\n",
      "ask 99.999058% 0.000943% False\n",
      "ask 99.999332% 0.000670% False\n"
     ]
    },
    {
     "name": "stderr",
     "output_type": "stream",
     "text": [
      "[21/5361] 20221230 , capital: 10022.014302640384 , stock: 0:   0%|          | 21/5360 [00:00<03:49, 23.28it/s]"
     ]
    },
    {
     "name": "stdout",
     "output_type": "stream",
     "text": [
      "ask 100.000000% 0.000000% False\n",
      "ask 100.000000% 0.000000% False\n",
      "ask 100.000000% 0.000000% False\n",
      "ask 100.000000% 0.000000% False\n",
      "ask 100.000000% 0.000000% False\n",
      "ask 100.000000% 0.000000% False\n"
     ]
    },
    {
     "name": "stderr",
     "output_type": "stream",
     "text": [
      "[27/5361] 20221230 , capital: 10022.014302640384 , stock: 0:   1%|          | 27/5360 [00:01<03:38, 24.38it/s]"
     ]
    },
    {
     "name": "stdout",
     "output_type": "stream",
     "text": [
      "ask 100.000000% 0.000000% False\n",
      "ask 100.000000% 0.000000% False\n",
      "ask 100.000000% 0.000000% False\n",
      "ask 100.000000% 0.000000% False\n",
      "ask 100.000000% 0.000000% False\n",
      "ask 100.000000% 0.000000% False\n"
     ]
    },
    {
     "name": "stderr",
     "output_type": "stream",
     "text": [
      "[34/5361] 20221230 , capital: 10033.051763326112 , stock: 0:   1%|          | 34/5360 [00:01<03:17, 27.03it/s]"
     ]
    },
    {
     "name": "stdout",
     "output_type": "stream",
     "text": [
      "ask 100.000000% 0.000000% False\n",
      "ask 0.047731% 99.952269% True\n",
      "bid 100.000000% 0.000000% False\n",
      "bid 99.999845% 0.000152% False\n",
      "bid 0.054961% 99.945039% True\n",
      "ask 100.000000% 0.000000% False\n",
      "ask 100.000000% 0.000000% False\n"
     ]
    },
    {
     "name": "stderr",
     "output_type": "stream",
     "text": [
      "[39/5361] 20221230 , capital: 0 , stock: 22.123571321157588:   1%|          | 40/5360 [00:01<03:12, 27.67it/s]"
     ]
    },
    {
     "name": "stdout",
     "output_type": "stream",
     "text": [
      "ask 99.989420% 0.010582% False\n",
      "ask 0.000012% 99.999988% True\n",
      "bid 0.000000% 100.000000% True\n",
      "ask 0.574923% 99.425077% True\n",
      "bid 0.000000% 100.000000% True\n"
     ]
    },
    {
     "name": "stderr",
     "output_type": "stream",
     "text": [
      "[45/5361] 20221230 , capital: 0 , stock: 22.19674735232203:   1%|          | 43/5360 [00:01<03:29, 25.41it/s] "
     ]
    },
    {
     "name": "stdout",
     "output_type": "stream",
     "text": [
      "ask 0.007153% 99.992847% True\n",
      "bid 0.000000% 100.000000% True\n",
      "ask 1.139605% 98.860395% True\n",
      "bid 0.023276% 99.976724% True\n",
      "ask 0.433654% 99.566346% True\n",
      "bid 0.205809% 99.794191% True\n"
     ]
    },
    {
     "name": "stderr",
     "output_type": "stream",
     "text": [
      "[51/5361] 20221230 , capital: 10099.532268185021 , stock: 0:   1%|          | 49/5360 [00:02<03:20, 26.44it/s]"
     ]
    },
    {
     "name": "stdout",
     "output_type": "stream",
     "text": [
      "ask 99.680215% 0.319783% False\n",
      "ask 0.141501% 99.858499% True\n",
      "bid 0.009334% 99.990666% True\n",
      "ask 97.338313% 2.661687% False\n",
      "ask 99.926502% 0.073500% False\n",
      "ask 0.252986% 99.747014% True\n"
     ]
    },
    {
     "name": "stderr",
     "output_type": "stream",
     "text": [
      "[57/5361] 20221230 , capital: 10110.655101079497 , stock: 0:   1%|          | 55/5360 [00:02<03:25, 25.82it/s]"
     ]
    },
    {
     "name": "stdout",
     "output_type": "stream",
     "text": [
      "bid 0.000203% 99.999797% True\n",
      "ask 100.000000% 0.000000% False\n",
      "ask 100.000000% 0.000000% False\n",
      "ask 100.000000% 0.000000% False\n",
      "ask 100.000000% 0.000000% False\n",
      "ask 99.999940% 0.000059% False\n"
     ]
    },
    {
     "name": "stderr",
     "output_type": "stream",
     "text": [
      "[63/5361] 20221230 , capital: 10121.790183789939 , stock: 0:   1%|          | 61/5360 [00:02<03:32, 24.97it/s]"
     ]
    },
    {
     "name": "stdout",
     "output_type": "stream",
     "text": [
      "ask 99.998695% 0.001307% False\n",
      "ask 0.003040% 99.996960% True\n",
      "bid 0.000000% 100.000000% True\n",
      "ask 99.628407% 0.371591% False\n",
      "ask 100.000000% 0.000001% False\n",
      "ask 0.000036% 99.999964% True\n"
     ]
    },
    {
     "name": "stderr",
     "output_type": "stream",
     "text": [
      "[69/5361] 20221230 , capital: 0 , stock: 22.319245660368566:   1%|▏         | 70/5360 [00:02<03:22, 26.16it/s]"
     ]
    },
    {
     "name": "stdout",
     "output_type": "stream",
     "text": [
      "bid 0.000060% 99.999940% True\n",
      "ask 100.000000% 0.000001% False\n",
      "ask 99.959767% 0.040234% False\n",
      "ask 99.999988% 0.000011% False\n",
      "ask 0.000000% 100.000000% True\n",
      "bid 0.000000% 100.000000% True\n"
     ]
    },
    {
     "name": "stderr",
     "output_type": "stream",
     "text": [
      "[74/5361] 20221230 , capital: 0 , stock: 22.368434065641434:   1%|▏         | 73/5360 [00:02<03:22, 26.10it/s]"
     ]
    },
    {
     "name": "stdout",
     "output_type": "stream",
     "text": [
      "ask 100.000000% 0.000002% False\n",
      "ask 0.057971% 99.942029% True\n",
      "bid 0.000000% 100.000000% True\n",
      "ask 0.002337% 99.997663% True\n",
      "bid 0.000095% 99.999905% True\n"
     ]
    },
    {
     "name": "stderr",
     "output_type": "stream",
     "text": [
      "[80/5361] 20221230 , capital: 10177.649817286494 , stock: 0:   1%|▏         | 79/5360 [00:03<03:45, 23.40it/s]"
     ]
    },
    {
     "name": "stdout",
     "output_type": "stream",
     "text": [
      "ask 0.005317% 99.994683% True\n",
      "bid 0.000000% 100.000000% True\n",
      "ask 100.000000% 0.000000% False\n",
      "ask 100.000000% 0.000000% False\n",
      "ask 100.000000% 0.000000% False\n",
      "ask 0.000000% 100.000000% True\n"
     ]
    },
    {
     "name": "stderr",
     "output_type": "stream",
     "text": [
      "[86/5361] 20221230 , capital: 10188.846351738954 , stock: 0:   2%|▏         | 85/5360 [00:03<03:28, 25.25it/s]"
     ]
    },
    {
     "name": "stdout",
     "output_type": "stream",
     "text": [
      "bid 100.000000% 0.000000% False\n",
      "bid 100.000000% 0.000000% False\n",
      "bid 17.682648% 82.317352% False\n",
      "bid 17.682648% 82.317352% True\n",
      "ask 100.000000% 0.000000% False\n",
      "ask 100.000000% 0.000000% False\n"
     ]
    },
    {
     "name": "stderr",
     "output_type": "stream",
     "text": [
      "[93/5361] 20221230 , capital: 0 , stock: 22.417703744200118:   2%|▏         | 91/5360 [00:03<03:23, 25.92it/s]"
     ]
    },
    {
     "name": "stdout",
     "output_type": "stream",
     "text": [
      "ask 100.000000% 0.000000% False\n",
      "ask 0.000358% 99.999642% True\n",
      "bid 100.000000% 0.000000% False\n",
      "bid 100.000000% 0.000000% False\n",
      "bid 100.000000% 0.000000% False\n",
      "bid 100.000000% 0.000000% False\n",
      "bid 0.000489% 99.999511% True\n"
     ]
    },
    {
     "name": "stderr",
     "output_type": "stream",
     "text": [
      "[100/5361] 20221230 , capital: 0 , stock: 22.44236568451277:   2%|▏         | 97/5360 [00:03<03:12, 27.35it/s]"
     ]
    },
    {
     "name": "stdout",
     "output_type": "stream",
     "text": [
      "ask 0.007248% 99.992752% True\n",
      "bid 100.000000% 0.000000% False\n",
      "bid 100.000000% 0.000000% False\n",
      "bid 100.000000% 0.000000% False\n",
      "bid 100.000000% 0.000000% False\n",
      "bid 100.000000% 0.000000% False\n",
      "bid 0.000000% 100.000000% True\n"
     ]
    },
    {
     "name": "stderr",
     "output_type": "stream",
     "text": [
      "[106/5361] 20221230 , capital: 0 , stock: 22.467054755672848:   2%|▏         | 107/5360 [00:04<03:06, 28.11it/s]"
     ]
    },
    {
     "name": "stdout",
     "output_type": "stream",
     "text": [
      "ask 0.279504% 99.720496% True\n",
      "bid 100.000000% 0.000000% False\n",
      "bid 100.000000% 0.000000% False\n",
      "bid 99.842620% 0.157379% False\n",
      "bid 99.595404% 0.404594% False\n",
      "bid 99.135971% 0.864027% False\n"
     ]
    },
    {
     "name": "stderr",
     "output_type": "stream",
     "text": [
      "[112/5361] 20221230 , capital: 10222.509913831145 , stock: 0:   2%|▏         | 110/5360 [00:04<03:07, 27.97it/s]"
     ]
    },
    {
     "name": "stdout",
     "output_type": "stream",
     "text": [
      "bid 0.000000% 100.000000% True\n",
      "ask 100.000000% 0.000000% False\n",
      "ask 100.000000% 0.000000% False\n",
      "ask 100.000000% 0.000000% False\n",
      "ask 99.999994% 0.000005% False\n",
      "ask 0.256592% 99.743408% True\n"
     ]
    },
    {
     "name": "stderr",
     "output_type": "stream",
     "text": [
      "[118/5361] 20221230 , capital: 0 , stock: 22.516514409955793:   2%|▏         | 119/5360 [00:04<03:08, 27.86it/s]"
     ]
    },
    {
     "name": "stdout",
     "output_type": "stream",
     "text": [
      "bid 0.006330% 99.993670% True\n",
      "ask 99.961931% 0.038068% False\n",
      "ask 99.961931% 0.038068% False\n",
      "ask 0.033844% 99.966156% True\n",
      "bid 100.000000% 0.000000% False\n",
      "bid 100.000000% 0.000000% False\n"
     ]
    },
    {
     "name": "stderr",
     "output_type": "stream",
     "text": [
      "[122/5361] 20221230 , capital: 10245.014056529886 , stock: 0:   2%|▏         | 122/5360 [00:04<03:26, 25.35it/s]"
     ]
    },
    {
     "name": "stdout",
     "output_type": "stream",
     "text": [
      "bid 0.000000% 100.000000% True\n",
      "ask 100.000000% 0.000000% False\n",
      "ask 99.996203% 0.003799% False\n",
      "ask 100.000000% 0.000000% False\n"
     ]
    },
    {
     "name": "stderr",
     "output_type": "stream",
     "text": [
      "[129/5361] 20221230 , capital: 10245.014056529886 , stock: 0:   2%|▏         | 128/5360 [00:05<03:20, 26.05it/s]"
     ]
    },
    {
     "name": "stdout",
     "output_type": "stream",
     "text": [
      "ask 100.000000% 0.000003% False\n",
      "ask 99.999720% 0.000280% False\n",
      "ask 100.000000% 0.000000% False\n",
      "ask 100.000000% 0.000000% False\n",
      "ask 100.000000% 0.000000% False\n",
      "ask 99.996400% 0.003600% False\n",
      "ask 99.999702% 0.000296% False\n"
     ]
    },
    {
     "name": "stderr",
     "output_type": "stream",
     "text": [
      "[135/5361] 20221230 , capital: 0 , stock: 22.541257832384318:   2%|▎         | 134/5360 [00:05<03:17, 26.49it/s]"
     ]
    },
    {
     "name": "stdout",
     "output_type": "stream",
     "text": [
      "ask 100.000000% 0.000000% False\n",
      "ask 0.000000% 100.000000% True\n",
      "bid 0.000143% 99.999857% True\n",
      "ask 99.998212% 0.001789% False\n",
      "ask 0.064129% 99.935871% True\n",
      "bid 0.000036% 99.999964% True\n"
     ]
    },
    {
     "name": "stderr",
     "output_type": "stream",
     "text": [
      "[141/5361] 20221230 , capital: 0 , stock: 22.566028445386937:   3%|▎         | 140/5360 [00:05<03:20, 26.08it/s]"
     ]
    },
    {
     "name": "stdout",
     "output_type": "stream",
     "text": [
      "ask 0.000036% 99.999964% True\n",
      "bid 100.000000% 0.000000% False\n",
      "bid 100.000000% 0.000000% False\n",
      "bid 100.000000% 0.000000% False\n",
      "bid 100.000000% 0.000000% False\n",
      "bid 100.000000% 0.000002% False\n"
     ]
    },
    {
     "name": "stderr",
     "output_type": "stream",
     "text": [
      "[147/5361] 20221230 , capital: 10278.82595687375 , stock: 0:   3%|▎         | 146/5360 [00:05<03:16, 26.49it/s] "
     ]
    },
    {
     "name": "stdout",
     "output_type": "stream",
     "text": [
      "bid 99.992532% 0.007466% False\n",
      "bid 0.289053% 99.710947% True\n",
      "ask 100.000000% 0.000000% False\n",
      "ask 100.000000% 0.000000% False\n",
      "ask 100.000000% 0.000000% False\n",
      "ask 0.000870% 99.999130% True\n"
     ]
    },
    {
     "name": "stderr",
     "output_type": "stream",
     "text": [
      "[152/5361] 20221230 , capital: 0 , stock: 22.64050372680111:   3%|▎         | 152/5360 [00:05<03:19, 26.10it/s] "
     ]
    },
    {
     "name": "stdout",
     "output_type": "stream",
     "text": [
      "bid 0.005615% 99.994385% True\n",
      "ask 0.015211% 99.984789% True\n",
      "bid 0.000000% 100.000000% True\n",
      "ask 0.000107% 99.999893% True\n",
      "bid 100.000000% 0.000000% False\n",
      "bid 100.000000% 0.000000% False\n"
     ]
    },
    {
     "name": "stderr",
     "output_type": "stream",
     "text": [
      "[158/5361] 20221230 , capital: 10312.749447557906 , stock: 0:   3%|▎         | 158/5360 [00:06<03:26, 25.14it/s]"
     ]
    },
    {
     "name": "stdout",
     "output_type": "stream",
     "text": [
      "bid 100.000000% 0.000000% False\n",
      "bid 0.000000% 100.000000% True\n",
      "ask 0.000656% 99.999344% True\n",
      "ask 99.998498% 0.001500% False\n",
      "ask 0.001025% 99.998975% True\n"
     ]
    },
    {
     "name": "stderr",
     "output_type": "stream",
     "text": [
      "[163/5361] 20221230 , capital: 0 , stock: 22.690290415952788:   3%|▎         | 161/5360 [00:06<03:36, 24.04it/s]"
     ]
    },
    {
     "name": "stdout",
     "output_type": "stream",
     "text": [
      "bid 99.997544% 0.002458% False\n",
      "bid 0.056702% 99.943298% True\n",
      "ask 99.965918% 0.034079% False\n",
      "ask 0.045007% 99.954993% True\n",
      "bid 0.460875% 99.539125% True\n"
     ]
    },
    {
     "name": "stderr",
     "output_type": "stream",
     "text": [
      "[170/5361] 20221230 , capital: 0 , stock: 22.740186586520895:   3%|▎         | 170/5360 [00:06<03:27, 24.96it/s]"
     ]
    },
    {
     "name": "stdout",
     "output_type": "stream",
     "text": [
      "ask 0.000048% 99.999952% True\n",
      "bid 99.999094% 0.000904% False\n",
      "bid 0.000000% 100.000000% True\n",
      "ask 0.000656% 99.999344% True\n",
      "bid 100.000000% 0.000000% False\n",
      "bid 100.000000% 0.000000% False\n",
      "bid 99.976557% 0.023441% False\n"
     ]
    },
    {
     "name": "stderr",
     "output_type": "stream",
     "text": [
      "[177/5361] 20221230 , capital: 10369.537578061543 , stock: 0:   3%|▎         | 176/5360 [00:06<03:17, 26.20it/s]"
     ]
    },
    {
     "name": "stdout",
     "output_type": "stream",
     "text": [
      "bid 100.000000% 0.000000% False\n",
      "bid 0.000000% 100.000000% True\n",
      "ask 100.000000% 0.000000% False\n",
      "ask 99.999875% 0.000123% False\n",
      "ask 0.001895% 99.998105% True\n",
      "bid 0.000000% 100.000000% True\n",
      "ask 0.054914% 99.945086% True\n"
     ]
    },
    {
     "name": "stderr",
     "output_type": "stream",
     "text": [
      "[183/5361] 20221230 , capital: 10380.932674301172 , stock: 0:   3%|▎         | 182/5360 [00:07<03:11, 27.09it/s]"
     ]
    },
    {
     "name": "stdout",
     "output_type": "stream",
     "text": [
      "bid 99.991268% 0.008734% False\n",
      "bid 0.000000% 100.000000% True\n",
      "ask 99.999958% 0.000044% False\n",
      "ask 99.939984% 0.060015% False\n",
      "ask 99.999869% 0.000128% False\n",
      "ask 0.000656% 99.999344% True\n"
     ]
    },
    {
     "name": "stderr",
     "output_type": "stream",
     "text": [
      "[189/5361] 20221230 , capital: 10392.327770540798 , stock: 0:   4%|▎         | 188/5360 [00:07<03:23, 25.45it/s]"
     ]
    },
    {
     "name": "stdout",
     "output_type": "stream",
     "text": [
      "bid 100.000000% 0.000000% False\n",
      "bid 100.000000% 0.000000% False\n",
      "bid 100.000000% 0.000001% False\n",
      "bid 0.039572% 99.960428% True\n",
      "ask 99.995625% 0.004373% False\n",
      "ask 99.963719% 0.036279% False\n"
     ]
    },
    {
     "name": "stderr",
     "output_type": "stream",
     "text": [
      "[196/5361] 20221230 , capital: 0 , stock: 22.84025329334529:   4%|▎         | 194/5360 [00:07<03:16, 26.31it/s] "
     ]
    },
    {
     "name": "stdout",
     "output_type": "stream",
     "text": [
      "ask 0.000072% 99.999928% True\n",
      "bid 0.088161% 99.911839% True\n",
      "ask 99.999619% 0.000380% False\n",
      "ask 99.982023% 0.017979% False\n",
      "ask 0.139707% 99.860293% True\n",
      "bid 100.000000% 0.000000% False\n",
      "bid 100.000000% 0.000000% False\n"
     ]
    },
    {
     "name": "stderr",
     "output_type": "stream",
     "text": [
      "[202/5361] 20221230 , capital: 10426.588164226227 , stock: 0:   4%|▎         | 200/5360 [00:07<03:06, 27.69it/s]"
     ]
    },
    {
     "name": "stdout",
     "output_type": "stream",
     "text": [
      "bid 99.999970% 0.000028% False\n",
      "bid 0.002921% 99.997079% True\n",
      "ask 0.011384% 99.988616% True\n",
      "bid 0.000072% 99.999928% True\n",
      "ask 99.999988% 0.000011% False\n",
      "ask 0.376993% 99.623007% True\n"
     ]
    },
    {
     "name": "stderr",
     "output_type": "stream",
     "text": [
      "[208/5361] 20221230 , capital: 0 , stock: 22.915550771156095:   4%|▍         | 206/5360 [00:08<03:05, 27.74it/s]"
     ]
    },
    {
     "name": "stdout",
     "output_type": "stream",
     "text": [
      "bid 0.001049% 99.998951% True\n",
      "ask 100.000000% 0.000000% False\n",
      "ask 100.000000% 0.000000% False\n",
      "ask 0.609642% 99.390358% True\n",
      "bid 99.999660% 0.000341% False\n",
      "bid 0.000465% 99.999535% True\n"
     ]
    },
    {
     "name": "stderr",
     "output_type": "stream",
     "text": [
      "[214/5361] 20221230 , capital: 0 , stock: 22.940705053012472:   4%|▍         | 212/5360 [00:08<03:08, 27.32it/s]"
     ]
    },
    {
     "name": "stdout",
     "output_type": "stream",
     "text": [
      "ask 100.000000% 0.000001% False\n",
      "ask 0.008082% 99.991918% True\n",
      "bid 100.000000% 0.000000% False\n",
      "bid 99.932891% 0.067106% False\n",
      "bid 99.621618% 0.378379% False\n",
      "bid 0.000000% 100.000000% True\n"
     ]
    },
    {
     "name": "stderr",
     "output_type": "stream",
     "text": [
      "[219/5361] 20221230 , capital: 0 , stock: 22.965886946594264:   4%|▍         | 218/5360 [00:08<03:26, 24.89it/s]"
     ]
    },
    {
     "name": "stdout",
     "output_type": "stream",
     "text": [
      "ask 100.000000% 0.000000% False\n",
      "ask 100.000000% 0.000000% False\n",
      "ask 100.000000% 0.000002% False\n",
      "ask 0.019890% 99.980110% True\n",
      "bid 0.006175% 99.993825% True\n"
     ]
    },
    {
     "name": "stderr",
     "output_type": "stream",
     "text": [
      "[225/5361] 20221230 , capital: 0 , stock: 23.016333690204366:   4%|▍         | 224/5360 [00:08<03:16, 26.10it/s]"
     ]
    },
    {
     "name": "stdout",
     "output_type": "stream",
     "text": [
      "ask 0.003183% 99.996817% True\n",
      "bid 99.999976% 0.000024% False\n",
      "bid 0.000799% 99.999201% True\n",
      "ask 99.997592% 0.002408% False\n",
      "ask 0.000012% 99.999988% True\n",
      "bid 0.109386% 99.890614% True\n"
     ]
    },
    {
     "name": "stderr",
     "output_type": "stream",
     "text": [
      "[231/5361] 20221230 , capital: 10518.502407656097 , stock: 0:   4%|▍         | 230/5360 [00:08<03:21, 25.49it/s]"
     ]
    },
    {
     "name": "stdout",
     "output_type": "stream",
     "text": [
      "ask 0.178599% 99.821401% True\n",
      "bid 2.672225% 97.327775% True\n",
      "ask 98.909432% 1.090569% False\n",
      "ask 0.001931% 99.998069% True\n",
      "bid 0.003946% 99.996054% True\n",
      "ask 99.999994% 0.000003% False\n"
     ]
    },
    {
     "name": "stderr",
     "output_type": "stream",
     "text": [
      "[237/5361] 20221230 , capital: 0 , stock: 23.09221165237343:   4%|▍         | 236/5360 [00:09<03:16, 26.09it/s] "
     ]
    },
    {
     "name": "stdout",
     "output_type": "stream",
     "text": [
      "ask 99.999201% 0.000797% False\n",
      "ask 99.979794% 0.020208% False\n",
      "ask 99.974465% 0.025536% False\n",
      "ask 99.852329% 0.147668% False\n",
      "ask 0.084436% 99.915564% True\n",
      "bid 0.000000% 100.000000% True\n"
     ]
    },
    {
     "name": "stderr",
     "output_type": "stream",
     "text": [
      "[242/5361] 20221230 , capital: 10541.607293409266 , stock: 0:   5%|▍         | 242/5360 [00:09<03:12, 26.54it/s]"
     ]
    },
    {
     "name": "stdout",
     "output_type": "stream",
     "text": [
      "ask 100.000000% 0.000000% False\n",
      "ask 99.999946% 0.000054% False\n",
      "ask 0.106925% 99.893075% True\n",
      "bid 0.000119% 99.999881% True\n",
      "ask 99.935234% 0.064766% False\n"
     ]
    },
    {
     "name": "stderr",
     "output_type": "stream",
     "text": [
      "[247/5361] 20221230 , capital: 10553.178761349342 , stock: 0:   5%|▍         | 245/5360 [00:09<03:45, 22.64it/s]"
     ]
    },
    {
     "name": "stdout",
     "output_type": "stream",
     "text": [
      "ask 99.999559% 0.000443% False\n",
      "ask 100.000000% 0.000001% False\n",
      "ask 0.335979% 99.664021% True\n",
      "bid 0.000012% 99.999988% True\n",
      "ask 99.949867% 0.050136% False\n"
     ]
    },
    {
     "name": "stderr",
     "output_type": "stream",
     "text": [
      "[253/5361] 20221230 , capital: 10576.359816994323 , stock: 0:   5%|▍         | 251/5360 [00:09<03:29, 24.37it/s]"
     ]
    },
    {
     "name": "stdout",
     "output_type": "stream",
     "text": [
      "ask 1.162332% 98.837668% True\n",
      "bid 0.000095% 99.999905% True\n",
      "ask 0.154734% 99.845266% True\n",
      "bid 0.034702% 99.965298% True\n",
      "ask 99.979597% 0.020400% False\n",
      "ask 0.017768% 99.982232% True\n"
     ]
    },
    {
     "name": "stderr",
     "output_type": "stream",
     "text": [
      "[259/5361] 20221230 , capital: 10587.969432600246 , stock: 0:   5%|▍         | 257/5360 [00:10<03:23, 25.09it/s]"
     ]
    },
    {
     "name": "stdout",
     "output_type": "stream",
     "text": [
      "bid 0.000060% 99.999940% True\n",
      "ask 100.000000% 0.000000% False\n",
      "ask 99.999988% 0.000011% False\n",
      "ask 100.000000% 0.000000% False\n",
      "ask 100.000000% 0.000000% False\n",
      "ask 97.346616% 2.653383% False\n"
     ]
    },
    {
     "name": "stderr",
     "output_type": "stream",
     "text": [
      "[264/5361] 20221230 , capital: 10599.591792021321 , stock: 0:   5%|▍         | 263/5360 [00:10<03:25, 24.77it/s]"
     ]
    },
    {
     "name": "stdout",
     "output_type": "stream",
     "text": [
      "ask 0.123149% 99.876851% True\n",
      "bid 0.004911% 99.995089% True\n",
      "ask 99.694031% 0.305970% False\n",
      "ask 100.000000% 0.000002% False\n",
      "ask 100.000000% 0.000000% False\n"
     ]
    },
    {
     "name": "stderr",
     "output_type": "stream",
     "text": [
      "[270/5361] 20221230 , capital: 0 , stock: 23.270234450101693:   5%|▌         | 269/5360 [00:10<03:22, 25.09it/s]"
     ]
    },
    {
     "name": "stdout",
     "output_type": "stream",
     "text": [
      "ask 100.000000% 0.000000% False\n",
      "ask 99.999994% 0.000004% False\n",
      "ask 99.999994% 0.000006% False\n",
      "ask 98.701930% 1.298069% False\n",
      "ask 0.063151% 99.936849% True\n",
      "bid 0.012147% 99.987853% True\n"
     ]
    },
    {
     "name": "stderr",
     "output_type": "stream",
     "text": [
      "[275/5361] 20221230 , capital: 10611.226909246372 , stock: 0:   5%|▌         | 275/5360 [00:10<03:25, 24.71it/s]"
     ]
    },
    {
     "name": "stdout",
     "output_type": "stream",
     "text": [
      "ask 99.791807% 0.208191% False\n",
      "ask 100.000000% 0.000000% False\n",
      "ask 100.000000% 0.000000% False\n",
      "ask 99.999851% 0.000149% False\n",
      "ask 99.961692% 0.038307% False\n"
     ]
    },
    {
     "name": "stderr",
     "output_type": "stream",
     "text": [
      "[280/5361] 20221230 , capital: 10622.874798279574 , stock: 0:   5%|▌         | 281/5360 [00:10<03:18, 25.62it/s]"
     ]
    },
    {
     "name": "stdout",
     "output_type": "stream",
     "text": [
      "ask 99.696535% 0.303467% False\n",
      "ask 0.006294% 99.993706% True\n",
      "bid 0.000000% 100.000000% True\n",
      "ask 99.999988% 0.000013% False\n",
      "ask 99.999994% 0.000009% False\n"
     ]
    },
    {
     "name": "stderr",
     "output_type": "stream",
     "text": [
      "\n"
     ]
    },
    {
     "ename": "KeyboardInterrupt",
     "evalue": "",
     "output_type": "error",
     "traceback": [
      "\u001b[1;31m---------------------------------------------------------------------------\u001b[0m",
      "\u001b[1;31mKeyboardInterrupt\u001b[0m                         Traceback (most recent call last)",
      "\u001b[1;32m~\\AppData\\Local\\Temp\\ipykernel_12720\\2355142991.py\u001b[0m in \u001b[0;36m<module>\u001b[1;34m\u001b[0m\n\u001b[0;32m     50\u001b[0m         \u001b[0mprint\u001b[0m\u001b[1;33m(\u001b[0m\u001b[1;34mf\"bid {output[0][0]:%} {output[0][1]:%} {output[0][0] < output[0][1] and cur_match_price<data.iloc[idx+1].to_numpy()[2]}\"\u001b[0m\u001b[1;33m)\u001b[0m\u001b[1;33m\u001b[0m\u001b[1;33m\u001b[0m\u001b[0m\n\u001b[0;32m     51\u001b[0m     \u001b[1;32melif\u001b[0m \u001b[0mHOLD_STOCK\u001b[0m \u001b[1;33m==\u001b[0m \u001b[1;36m0\u001b[0m\u001b[1;33m:\u001b[0m\u001b[1;33m\u001b[0m\u001b[1;33m\u001b[0m\u001b[0m\n\u001b[1;32m---> 52\u001b[1;33m         \u001b[0moutput\u001b[0m \u001b[1;33m=\u001b[0m \u001b[0mask_model\u001b[0m\u001b[1;33m.\u001b[0m\u001b[0mpredict_proba\u001b[0m\u001b[1;33m(\u001b[0m\u001b[0minput_data\u001b[0m\u001b[1;33m)\u001b[0m\u001b[1;33m\u001b[0m\u001b[1;33m\u001b[0m\u001b[0m\n\u001b[0m\u001b[0;32m     53\u001b[0m         \u001b[0mchoose\u001b[0m \u001b[1;33m=\u001b[0m \u001b[0mnp\u001b[0m\u001b[1;33m.\u001b[0m\u001b[0margmax\u001b[0m\u001b[1;33m(\u001b[0m\u001b[0moutput\u001b[0m\u001b[1;33m[\u001b[0m\u001b[1;36m0\u001b[0m\u001b[1;33m]\u001b[0m\u001b[1;33m)\u001b[0m\u001b[1;33m\u001b[0m\u001b[1;33m\u001b[0m\u001b[0m\n\u001b[0;32m     54\u001b[0m \u001b[1;33m\u001b[0m\u001b[0m\n",
      "\u001b[1;32mc:\\Users\\yicheng\\anaconda3\\envs\\gpu_env\\lib\\site-packages\\xgboost\\sklearn.py\u001b[0m in \u001b[0;36mpredict_proba\u001b[1;34m(self, X, ntree_limit, validate_features, base_margin, iteration_range)\u001b[0m\n\u001b[0;32m   1604\u001b[0m             \u001b[0mclass_prob\u001b[0m \u001b[1;33m=\u001b[0m \u001b[0msoftmax\u001b[0m\u001b[1;33m(\u001b[0m\u001b[0mraw_predt\u001b[0m\u001b[1;33m,\u001b[0m \u001b[0maxis\u001b[0m\u001b[1;33m=\u001b[0m\u001b[1;36m1\u001b[0m\u001b[1;33m)\u001b[0m\u001b[1;33m\u001b[0m\u001b[1;33m\u001b[0m\u001b[0m\n\u001b[0;32m   1605\u001b[0m             \u001b[1;32mreturn\u001b[0m \u001b[0mclass_prob\u001b[0m\u001b[1;33m\u001b[0m\u001b[1;33m\u001b[0m\u001b[0m\n\u001b[1;32m-> 1606\u001b[1;33m         class_probs = super().predict(\n\u001b[0m\u001b[0;32m   1607\u001b[0m             \u001b[0mX\u001b[0m\u001b[1;33m=\u001b[0m\u001b[0mX\u001b[0m\u001b[1;33m,\u001b[0m\u001b[1;33m\u001b[0m\u001b[1;33m\u001b[0m\u001b[0m\n\u001b[0;32m   1608\u001b[0m             \u001b[0mntree_limit\u001b[0m\u001b[1;33m=\u001b[0m\u001b[0mntree_limit\u001b[0m\u001b[1;33m,\u001b[0m\u001b[1;33m\u001b[0m\u001b[1;33m\u001b[0m\u001b[0m\n",
      "\u001b[1;32mc:\\Users\\yicheng\\anaconda3\\envs\\gpu_env\\lib\\site-packages\\xgboost\\sklearn.py\u001b[0m in \u001b[0;36mpredict\u001b[1;34m(self, X, output_margin, ntree_limit, validate_features, base_margin, iteration_range)\u001b[0m\n\u001b[0;32m   1137\u001b[0m                 \u001b[0menable_categorical\u001b[0m\u001b[1;33m=\u001b[0m\u001b[0mself\u001b[0m\u001b[1;33m.\u001b[0m\u001b[0menable_categorical\u001b[0m\u001b[1;33m,\u001b[0m\u001b[1;33m\u001b[0m\u001b[1;33m\u001b[0m\u001b[0m\n\u001b[0;32m   1138\u001b[0m             )\n\u001b[1;32m-> 1139\u001b[1;33m             return self.get_booster().predict(\n\u001b[0m\u001b[0;32m   1140\u001b[0m                 \u001b[0mdata\u001b[0m\u001b[1;33m=\u001b[0m\u001b[0mtest\u001b[0m\u001b[1;33m,\u001b[0m\u001b[1;33m\u001b[0m\u001b[1;33m\u001b[0m\u001b[0m\n\u001b[0;32m   1141\u001b[0m                 \u001b[0miteration_range\u001b[0m\u001b[1;33m=\u001b[0m\u001b[0miteration_range\u001b[0m\u001b[1;33m,\u001b[0m\u001b[1;33m\u001b[0m\u001b[1;33m\u001b[0m\u001b[0m\n",
      "\u001b[1;32mc:\\Users\\yicheng\\anaconda3\\envs\\gpu_env\\lib\\site-packages\\xgboost\\core.py\u001b[0m in \u001b[0;36mpredict\u001b[1;34m(self, data, output_margin, ntree_limit, pred_leaf, pred_contribs, approx_contribs, pred_interactions, validate_features, training, iteration_range, strict_shape)\u001b[0m\n\u001b[0;32m   2162\u001b[0m         \u001b[0mdims\u001b[0m \u001b[1;33m=\u001b[0m \u001b[0mc_bst_ulong\u001b[0m\u001b[1;33m(\u001b[0m\u001b[1;33m)\u001b[0m\u001b[1;33m\u001b[0m\u001b[1;33m\u001b[0m\u001b[0m\n\u001b[0;32m   2163\u001b[0m         _check_call(\n\u001b[1;32m-> 2164\u001b[1;33m             _LIB.XGBoosterPredictFromDMatrix(\n\u001b[0m\u001b[0;32m   2165\u001b[0m                 \u001b[0mself\u001b[0m\u001b[1;33m.\u001b[0m\u001b[0mhandle\u001b[0m\u001b[1;33m,\u001b[0m\u001b[1;33m\u001b[0m\u001b[1;33m\u001b[0m\u001b[0m\n\u001b[0;32m   2166\u001b[0m                 \u001b[0mdata\u001b[0m\u001b[1;33m.\u001b[0m\u001b[0mhandle\u001b[0m\u001b[1;33m,\u001b[0m\u001b[1;33m\u001b[0m\u001b[1;33m\u001b[0m\u001b[0m\n",
      "\u001b[1;31mKeyboardInterrupt\u001b[0m: "
     ]
    }
   ],
   "source": [
    "PATH = r\"../stock_dataset/2330\"\n",
    "DATE = \"20221230\"\n",
    "\n",
    "FILE_PATH = os.path.join(PATH,DATE+\".csv\")\n",
    "data = pd.read_csv(FILE_PATH)\n",
    "\n",
    "\n",
    "HOLD_CAPITAL = 10000\n",
    "HOLD_STOCK = 0\n",
    "\n",
    "# buy = 0 , sell = 1 ,nothing = -1\n",
    "predict_action = -1 \n",
    "want_price = -1\n",
    "tick_gap =0.5\n",
    "\n",
    "loop = tqdm(range(len(data)-1))\n",
    "for idx in loop :\n",
    "    \n",
    "    tick = data.iloc[idx].to_numpy()\n",
    "    \n",
    "    cur_match_price = tick[2]\n",
    "\n",
    "    if cur_match_price == want_price:\n",
    "\n",
    "        # buy\n",
    "        if predict_action == 0 :\n",
    "\n",
    "            HOLD_STOCK = HOLD_CAPITAL/cur_match_price\n",
    "            HOLD_CAPITAL = 0\n",
    "        # sell \n",
    "        elif predict_action == 1:\n",
    "            HOLD_CAPITAL = HOLD_STOCK*cur_match_price\n",
    "            HOLD_STOCK = 0 \n",
    "\n",
    "\n",
    "    input_data = [[tick[3]]]    \n",
    "    input_data[0].extend(tick[11:16])\n",
    "    input_data[0].extend(tick[21:26])\n",
    "\n",
    "    if HOLD_CAPITAL == 0:\n",
    "        output = bid_model.predict_proba(input_data)\n",
    "        choose = np.argmax(output[0])\n",
    "        \n",
    "        if choose == 1 :\n",
    "            predict_action= 1\n",
    "            want_price = cur_match_price+ tick_gap\n",
    "        else :\n",
    "            want_price = -1\n",
    "            predict_action = -1\n",
    "        print(f\"bid {output[0][0]:%} {output[0][1]:%} {cur_match_price<data.iloc[idx+1].to_numpy()[2]}\")\n",
    "    elif HOLD_STOCK == 0:\n",
    "        output = ask_model.predict_proba(input_data)\n",
    "        choose = np.argmax(output[0])\n",
    "\n",
    "        if choose == 1 :\n",
    "            predict_action= 0\n",
    "            want_price = cur_match_price -  tick_gap\n",
    "        else :\n",
    "            want_price = -1 \n",
    "            predict_action = -1\n",
    "\n",
    "        print(f\"ask {output[0][0]:%} {output[0][1]:%} { cur_match_price > data.iloc[idx+1].to_numpy()[2]}\" )\n",
    "    loop.set_description(f\"[{idx}/{len(data)}] {DATE} , capital: {HOLD_CAPITAL} , stock: {HOLD_STOCK}\")\n",
    "    loop.update\n",
    "    if idx == len(data)-1:\n",
    "        final_profit =HOLD_CAPITAL+HOLD_STOCK*cur_match_price\n",
    "        print(f\"final profit: {final_profit} , ROI: {final_profit/10000:2%}  \")\n",
    "    \n",
    "\n",
    "\n"
   ]
  }
 ],
 "metadata": {
  "kernelspec": {
   "display_name": "gpu_env",
   "language": "python",
   "name": "python3"
  },
  "language_info": {
   "codemirror_mode": {
    "name": "ipython",
    "version": 3
   },
   "file_extension": ".py",
   "mimetype": "text/x-python",
   "name": "python",
   "nbconvert_exporter": "python",
   "pygments_lexer": "ipython3",
   "version": "3.9.15"
  },
  "orig_nbformat": 4
 },
 "nbformat": 4,
 "nbformat_minor": 2
}
