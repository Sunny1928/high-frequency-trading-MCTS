{
 "cells": [
  {
   "cell_type": "code",
   "execution_count": 1,
   "metadata": {},
   "outputs": [],
   "source": [
    "import xgboost as xgb \n",
    "import pandas as pd \n",
    "import numpy as np\n",
    "import os\n",
    "from tqdm import tqdm"
   ]
  },
  {
   "cell_type": "code",
   "execution_count": 2,
   "metadata": {},
   "outputs": [],
   "source": [
    "bid_model = xgb.XGBClassifier()\n",
    "bid_model.load_model(\"../model_weight/bid_using.model\")\n",
    "ask_model = xgb.XGBClassifier()\n",
    "ask_model.load_model(\"../model_weight/ask_using.model\")"
   ]
  },
  {
   "cell_type": "code",
   "execution_count": 3,
   "metadata": {},
   "outputs": [
    {
     "name": "stderr",
     "output_type": "stream",
     "text": [
      "[7183/7184] 20221202 , capital: 0 , stock: 56.63104251167615: 100%|██████████| 7184/7184 [04:23<00:00, 27.29it/s] "
     ]
    },
    {
     "name": "stdout",
     "output_type": "stream",
     "text": [
      "final profit: 27919.103958256343 , ROI: 279.191040%\n"
     ]
    },
    {
     "name": "stderr",
     "output_type": "stream",
     "text": [
      "\n"
     ]
    }
   ],
   "source": [
    "PATH = r\"../stock_dataset/2330\"\n",
    "DATE = \"20221202\"\n",
    "\n",
    "FILE_PATH = os.path.join(PATH,DATE+\".csv\")\n",
    "data = pd.read_csv(FILE_PATH)\n",
    "\n",
    "\n",
    "HOLD_CAPITAL = 10000\n",
    "HOLD_STOCK = 0\n",
    "\n",
    "# buy = 0 , sell = 1 ,nothing = -1\n",
    "predict_action = -1 \n",
    "\n",
    "loop = tqdm(range(len(data)))\n",
    "for idx in loop :\n",
    "    \n",
    "    tick = data.iloc[idx].to_numpy()\n",
    "    \n",
    "    cur_match_price = tick[2]\n",
    "\n",
    "    # buy\n",
    "    if predict_action == 0 :\n",
    "\n",
    "        HOLD_STOCK = HOLD_CAPITAL/cur_match_price\n",
    "        HOLD_CAPITAL = 0\n",
    "    # sell \n",
    "    elif predict_action == 1:\n",
    "        HOLD_CAPITAL = HOLD_STOCK*cur_match_price\n",
    "        HOLD_STOCK = 0 \n",
    "\n",
    "\n",
    "    input_data = [[tick[3]]]    \n",
    "    input_data[0].extend(tick[11:16])\n",
    "    input_data[0].extend(tick[21:26])\n",
    "\n",
    "    if HOLD_CAPITAL == 0:\n",
    "        output = bid_model.predict_proba(input_data)\n",
    "        choose = np.argmax(output[0])\n",
    "        \n",
    "        if choose == 1 :\n",
    "            predict_action= 1\n",
    "        else :\n",
    "            predict_action = -1\n",
    "\n",
    "    elif HOLD_STOCK == 0:\n",
    "        output = ask_model.predict_proba(input_data)\n",
    "        choose = np.argmax(output[0])\n",
    "\n",
    "        if choose == 1 :\n",
    "            predict_action= 0\n",
    "        else :\n",
    "            predict_action = -1\n",
    "    loop.set_description(f\"[{idx}/{len(data)}] {DATE} , capital: {HOLD_CAPITAL} , stock: {HOLD_STOCK}\")\n",
    "    loop.update\n",
    "    if idx == len(data)-1:\n",
    "        final_profit =HOLD_CAPITAL+HOLD_STOCK*cur_match_price\n",
    "        print(f\"final profit: {final_profit} , ROI: {final_profit/10000:2%}\")\n",
    "    \n",
    "\n",
    "\n"
   ]
  }
 ],
 "metadata": {
  "kernelspec": {
   "display_name": "gpu_env",
   "language": "python",
   "name": "python3"
  },
  "language_info": {
   "codemirror_mode": {
    "name": "ipython",
    "version": 3
   },
   "file_extension": ".py",
   "mimetype": "text/x-python",
   "name": "python",
   "nbconvert_exporter": "python",
   "pygments_lexer": "ipython3",
   "version": "3.9.15"
  },
  "orig_nbformat": 4
 },
 "nbformat": 4,
 "nbformat_minor": 2
}
