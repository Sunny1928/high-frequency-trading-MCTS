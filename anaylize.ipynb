{
 "cells": [
  {
   "cell_type": "code",
   "execution_count": 1,
   "metadata": {},
   "outputs": [],
   "source": [
    "import os \n",
    "import pandas as pd\n",
    "import numpy as np"
   ]
  },
  {
   "cell_type": "code",
   "execution_count": 3,
   "metadata": {},
   "outputs": [],
   "source": [
    "filepath = r\"C:\\Users\\yicheng\\Desktop\\paper\\stock_dataset_test\"\n",
    "symbols_list = os.listdir(filepath)"
   ]
  },
  {
   "cell_type": "code",
   "execution_count": null,
   "metadata": {},
   "outputs": [],
   "source": [
    "for symbol  in symbols_list:\n",
    "    symbol_path = os.path.join(filepath,symbol)\n",
    "    dates_list = os.listdir(symbol_path)\n",
    "    # 排序 .csv 之前的名稱\n",
    "    dates_list.sort(key=lambda x:int(x[:-4]))\n",
    "\n",
    "    for date in dates_list :\n",
    "        \n",
    "        data = pd.read_csv(os.path.join(symbol_path,date))\n",
    "        for i in range(len(data)):\n",
    "            if data.iloc[i,\"label_1\"]\n"
   ]
  }
 ],
 "metadata": {
  "kernelspec": {
   "display_name": "gpu_env",
   "language": "python",
   "name": "python3"
  },
  "language_info": {
   "codemirror_mode": {
    "name": "ipython",
    "version": 3
   },
   "file_extension": ".py",
   "mimetype": "text/x-python",
   "name": "python",
   "nbconvert_exporter": "python",
   "pygments_lexer": "ipython3",
   "version": "3.9.15"
  },
  "orig_nbformat": 4
 },
 "nbformat": 4,
 "nbformat_minor": 2
}
